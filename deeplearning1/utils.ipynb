{
 "cells": [
  {
   "cell_type": "code",
   "execution_count": 3,
   "metadata": {
    "collapsed": false
   },
   "outputs": [
    {
     "name": "stdout",
     "output_type": "stream",
     "text": [
      "/app/fastai-courses\n"
     ]
    },
    {
     "data": {
      "text/plain": [
       "''"
      ]
     },
     "execution_count": 3,
     "metadata": {},
     "output_type": "execute_result"
    }
   ],
   "source": [
    "import os, sys\n",
    "currentPath=os.path.realpath(\"..\")\n",
    "print(currentPath)\n",
    "\n",
    "import git\n",
    "repo = git.Repo(currentPath)\n",
    "\n",
    "repo.git.push(\"--set-upstream\", \"origin\", \"master\")\n",
    "repo.git.fetch()\n",
    "repo.git.pull()\n",
    "\n",
    "repo.git.add(A=True)\n",
    "repo.git.commit(m=\"Committing progress on course\")\n",
    "repo.git.push()"
   ]
  },
  {
   "cell_type": "code",
   "execution_count": 4,
   "metadata": {
    "collapsed": false
   },
   "outputs": [
    {
     "name": "stdout",
     "output_type": "stream",
     "text": [
      "Requirement already satisfied: tensorflow in /app/.conda/lib/python3.5/site-packages\n",
      "Requirement already satisfied: wheel>=0.26 in /app/.conda/lib/python3.5/site-packages (from tensorflow)\n",
      "Requirement already satisfied: protobuf>=3.1.0 in /app/.conda/lib/python3.5/site-packages (from tensorflow)\n",
      "Requirement already satisfied: numpy>=1.11.0 in /app/.conda/lib/python3.5/site-packages (from tensorflow)\n",
      "Requirement already satisfied: six>=1.10.0 in /app/.conda/lib/python3.5/site-packages (from tensorflow)\n",
      "Requirement already satisfied: setuptools in /app/.conda/lib/python3.5/site-packages/setuptools-27.2.0-py3.5.egg (from protobuf>=3.1.0->tensorflow)\n",
      "Requirement already satisfied: Theano in /app/.conda/lib/python3.5/site-packages\n",
      "Requirement already satisfied: six>=1.9.0 in /app/.conda/lib/python3.5/site-packages (from Theano)\n",
      "Requirement already satisfied: numpy>=1.7.1 in /app/.conda/lib/python3.5/site-packages (from Theano)\n",
      "Requirement already satisfied: scipy>=0.11 in /app/.conda/lib/python3.5/site-packages (from Theano)\n",
      "Requirement already satisfied: keras in /app/.conda/lib/python3.5/site-packages\n",
      "Requirement already satisfied: six in /app/.conda/lib/python3.5/site-packages (from keras)\n",
      "Requirement already satisfied: theano in /app/.conda/lib/python3.5/site-packages (from keras)\n",
      "Requirement already satisfied: pyyaml in /app/.conda/lib/python3.5/site-packages (from keras)\n",
      "Requirement already satisfied: numpy>=1.7.1 in /app/.conda/lib/python3.5/site-packages (from theano->keras)\n",
      "Requirement already satisfied: scipy>=0.11 in /app/.conda/lib/python3.5/site-packages (from theano->keras)\n",
      "Requirement already satisfied: matplotlib in /app/.conda/lib/python3.5/site-packages\n",
      "Requirement already satisfied: numpy>=1.7.1 in /app/.conda/lib/python3.5/site-packages (from matplotlib)\n",
      "Requirement already satisfied: pyparsing!=2.0.0,!=2.0.4,!=2.1.2,!=2.1.6,>=1.5.6 in /app/.conda/lib/python3.5/site-packages (from matplotlib)\n",
      "Requirement already satisfied: six>=1.10 in /app/.conda/lib/python3.5/site-packages (from matplotlib)\n",
      "Requirement already satisfied: python-dateutil in /app/.conda/lib/python3.5/site-packages (from matplotlib)\n",
      "Requirement already satisfied: cycler>=0.10 in /app/.conda/lib/python3.5/site-packages (from matplotlib)\n",
      "Requirement already satisfied: pytz in /app/.conda/lib/python3.5/site-packages (from matplotlib)\n",
      "Collecting pandas\n",
      "  Downloading pandas-0.19.2-cp35-cp35m-manylinux1_x86_64.whl (18.5MB)\n",
      "Requirement already satisfied: python-dateutil>=2 in /app/.conda/lib/python3.5/site-packages (from pandas)\n",
      "Requirement already satisfied: numpy>=1.7.0 in /app/.conda/lib/python3.5/site-packages (from pandas)\n",
      "Requirement already satisfied: pytz>=2011k in /app/.conda/lib/python3.5/site-packages (from pandas)\n",
      "Requirement already satisfied: six>=1.5 in /app/.conda/lib/python3.5/site-packages (from python-dateutil>=2->pandas)\n",
      "Installing collected packages: pandas\n",
      "Successfully installed pandas-0.19.2\n",
      "Collecting PIL\n"
     ]
    },
    {
     "name": "stderr",
     "output_type": "stream",
     "text": [
      "  Could not find a version that satisfies the requirement PIL (from versions: )\n",
      "No matching distribution found for PIL\n"
     ]
    },
    {
     "data": {
      "text/plain": [
       "1"
      ]
     },
     "execution_count": 4,
     "metadata": {},
     "output_type": "execute_result"
    }
   ],
   "source": [
    "import pip\n",
    "\n",
    "pip.main(['install', 'tensorflow'])\n",
    "pip.main(['install', 'Theano'])\n",
    "pip.main(['install', 'keras'])\n",
    "pip.main(['install', 'matplotlib'])\n",
    "pip.main(['install', 'pandas'])\n",
    "pip.main(['install', 'PIL'])"
   ]
  },
  {
   "cell_type": "code",
   "execution_count": 5,
   "metadata": {
    "collapsed": false
   },
   "outputs": [
    {
     "data": {
      "text/plain": [
       "''"
      ]
     },
     "execution_count": 5,
     "metadata": {},
     "output_type": "execute_result"
    }
   ],
   "source": []
  },
  {
   "cell_type": "code",
   "execution_count": null,
   "metadata": {
    "collapsed": true
   },
   "outputs": [],
   "source": []
  }
 ],
 "metadata": {
  "kernelspec": {
   "display_name": "Python 3",
   "language": "python",
   "name": "python3"
  },
  "language_info": {
   "codemirror_mode": {
    "name": "ipython",
    "version": 3
   },
   "file_extension": ".py",
   "mimetype": "text/x-python",
   "name": "python",
   "nbconvert_exporter": "python",
   "pygments_lexer": "ipython3",
   "version": "3.5.2"
  }
 },
 "nbformat": 4,
 "nbformat_minor": 2
}
