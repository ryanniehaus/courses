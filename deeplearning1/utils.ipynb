{
 "cells": [
  {
   "cell_type": "code",
   "execution_count": 2,
   "metadata": {
    "collapsed": false
   },
   "outputs": [
    {
     "name": "stdout",
     "output_type": "stream",
     "text": [
      "/app/fastai-courses\n"
     ]
    },
    {
     "data": {
      "text/plain": [
       "''"
      ]
     },
     "execution_count": 2,
     "metadata": {},
     "output_type": "execute_result"
    }
   ],
   "source": [
    "import os, sys\n",
    "currentPath=os.path.realpath(\"..\")\n",
    "print(currentPath)\n",
    "\n",
    "import git\n",
    "repo = git.Repo(currentPath)\n",
    "\n",
    "repo.git.push(\"--set-upstream\", \"origin\", \"master\")\n",
    "repo.git.fetch()\n",
    "repo.git.pull()\n",
    "\n",
    "repo.git.add(A=True)\n",
    "repo.git.commit(m=\"Committing progress on course\")\n",
    "repo.git.push()"
   ]
  },
  {
   "cell_type": "code",
   "execution_count": 1,
   "metadata": {
    "collapsed": false
   },
   "outputs": [
    {
     "name": "stdout",
     "output_type": "stream",
     "text": [
      "Collecting tensorflow\n",
      "  Downloading tensorflow-0.12.1-cp35-cp35m-manylinux1_x86_64.whl (43.1MB)\n",
      "Requirement already satisfied: wheel>=0.26 in /app/.conda/lib/python3.5/site-packages (from tensorflow)\n",
      "Collecting protobuf>=3.1.0 (from tensorflow)\n",
      "  Downloading protobuf-3.2.0-py2.py3-none-any.whl (360kB)\n",
      "Collecting numpy>=1.11.0 (from tensorflow)\n",
      "  Downloading numpy-1.12.0-cp35-cp35m-manylinux1_x86_64.whl (16.8MB)\n",
      "Requirement already satisfied: six>=1.10.0 in /app/.conda/lib/python3.5/site-packages (from tensorflow)\n",
      "Requirement already satisfied: setuptools in /app/.conda/lib/python3.5/site-packages/setuptools-27.2.0-py3.5.egg (from protobuf>=3.1.0->tensorflow)\n",
      "Installing collected packages: protobuf, numpy, tensorflow\n",
      "Successfully installed numpy-1.12.0 protobuf-3.2.0 tensorflow-0.12.1\n",
      "Collecting Theano\n",
      "  Downloading Theano-0.8.2.tar.gz (2.9MB)\n",
      "Requirement already satisfied: numpy>=1.7.1 in /app/.conda/lib/python3.5/site-packages (from Theano)\n",
      "Collecting scipy>=0.11 (from Theano)\n",
      "  Downloading scipy-0.18.1-cp35-cp35m-manylinux1_x86_64.whl (42.0MB)\n",
      "Requirement already satisfied: six>=1.9.0 in /app/.conda/lib/python3.5/site-packages (from Theano)\n",
      "Building wheels for collected packages: Theano\n",
      "  Running setup.py bdist_wheel for Theano: started\n",
      "  Running setup.py bdist_wheel for Theano: finished with status 'done'\n",
      "  Stored in directory: /app/.cache/pip/wheels/96/2b/3d/71d54e24a7171a4afb7144d1e944a7be643b448b23a35b9937\n",
      "Successfully built Theano\n",
      "Installing collected packages: scipy, Theano\n",
      "Successfully installed Theano-0.8.2 scipy-0.18.1\n",
      "Collecting keras\n",
      "  Downloading Keras-1.2.1.tar.gz (173kB)\n",
      "Requirement already satisfied: theano in /app/.conda/lib/python3.5/site-packages (from keras)\n",
      "Requirement already satisfied: pyyaml in /app/.conda/lib/python3.5/site-packages (from keras)\n",
      "Requirement already satisfied: six in /app/.conda/lib/python3.5/site-packages (from keras)\n",
      "Requirement already satisfied: numpy>=1.7.1 in /app/.conda/lib/python3.5/site-packages (from theano->keras)\n",
      "Requirement already satisfied: scipy>=0.11 in /app/.conda/lib/python3.5/site-packages (from theano->keras)\n",
      "Building wheels for collected packages: keras\n",
      "  Running setup.py bdist_wheel for keras: started\n",
      "  Running setup.py bdist_wheel for keras: finished with status 'done'\n",
      "  Stored in directory: /app/.cache/pip/wheels/1b/89/c2/f774b6f20bfae61dcec703e8fce4c7b91d12954da5d881e4a5\n",
      "Successfully built keras\n",
      "Installing collected packages: keras\n",
      "Successfully installed keras-1.2.1\n",
      "Collecting matplotlib\n",
      "  Downloading matplotlib-2.0.0-1-cp35-cp35m-manylinux1_x86_64.whl (14.7MB)\n",
      "Requirement already satisfied: numpy>=1.7.1 in /app/.conda/lib/python3.5/site-packages (from matplotlib)\n",
      "Requirement already satisfied: pyparsing!=2.0.0,!=2.0.4,!=2.1.2,!=2.1.6,>=1.5.6 in /app/.conda/lib/python3.5/site-packages (from matplotlib)\n",
      "Requirement already satisfied: six>=1.10 in /app/.conda/lib/python3.5/site-packages (from matplotlib)\n",
      "Requirement already satisfied: python-dateutil in /app/.conda/lib/python3.5/site-packages (from matplotlib)\n",
      "Requirement already satisfied: cycler>=0.10 in /app/.conda/lib/python3.5/site-packages (from matplotlib)\n",
      "Requirement already satisfied: pytz in /app/.conda/lib/python3.5/site-packages (from matplotlib)\n",
      "Installing collected packages: matplotlib\n",
      "Successfully installed matplotlib-2.0.0\n"
     ]
    },
    {
     "data": {
      "text/plain": [
       "0"
      ]
     },
     "execution_count": 1,
     "metadata": {},
     "output_type": "execute_result"
    }
   ],
   "source": [
    "import pip\n",
    "\n",
    "pip.main(['install', 'tensorflow'])\n",
    "pip.main(['install', 'Theano'])\n",
    "pip.main(['install', 'keras'])\n",
    "pip.main(['install', 'matplotlib'])"
   ]
  },
  {
   "cell_type": "code",
   "execution_count": 5,
   "metadata": {
    "collapsed": false
   },
   "outputs": [
    {
     "data": {
      "text/plain": [
       "''"
      ]
     },
     "execution_count": 5,
     "metadata": {},
     "output_type": "execute_result"
    }
   ],
   "source": []
  },
  {
   "cell_type": "code",
   "execution_count": null,
   "metadata": {
    "collapsed": true
   },
   "outputs": [],
   "source": []
  }
 ],
 "metadata": {
  "kernelspec": {
   "display_name": "Python 3",
   "language": "python",
   "name": "python3"
  },
  "language_info": {
   "codemirror_mode": {
    "name": "ipython",
    "version": 3
   },
   "file_extension": ".py",
   "mimetype": "text/x-python",
   "name": "python",
   "nbconvert_exporter": "python",
   "pygments_lexer": "ipython3",
   "version": "3.5.2"
  }
 },
 "nbformat": 4,
 "nbformat_minor": 2
}
