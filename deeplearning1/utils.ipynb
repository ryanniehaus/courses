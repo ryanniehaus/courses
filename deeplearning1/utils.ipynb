{
 "cells": [
  {
   "cell_type": "code",
   "execution_count": 69,
   "metadata": {
    "collapsed": false
   },
   "outputs": [
    {
     "name": "stdout",
     "output_type": "stream",
     "text": [
      "currentPath=/app/fastai-courses\n",
      "notebooksPath=/app/fastai-courses/nbs\n"
     ]
    },
    {
     "data": {
      "text/plain": [
       "u''"
      ]
     },
     "execution_count": 69,
     "metadata": {},
     "output_type": "execute_result"
    }
   ],
   "source": [
    "import os, sys, glob\n",
    "appName=os.path.splitext(os.path.basename(os.environ['GIT_REPO_URL']))[0]\n",
    "currentPath=os.path.expanduser(os.path.join(\"~\", appName))\n",
    "notebooksPath=os.path.realpath(os.path.join(currentPath,\"nbs\"))\n",
    "print(\"currentPath=\"+currentPath)\n",
    "print(\"notebooksPath=\"+notebooksPath)\n",
    "os.chdir(currentPath)\n",
    "\n",
    "import git\n",
    "repo = git.Repo(currentPath)\n",
    "\n",
    "repo.git.push(\"--set-upstream\", \"origin\", \"master\")\n",
    "repo.git.fetch()\n",
    "repo.git.pull()\n",
    "\n",
    "repo.git.add(A=True)\n",
    "repo.git.commit(m=\"Committing progress on course\")\n",
    "repo.git.push()"
   ]
  },
  {
   "cell_type": "code",
   "execution_count": 55,
   "metadata": {
    "collapsed": false
   },
   "outputs": [
    {
     "name": "stdout",
     "output_type": "stream",
     "text": [
      "Collecting zip\n",
      "  Downloading zip-0.0.1.tar.gz\n",
      "Collecting click>=6.3 (from zip)\n",
      "  Downloading click-6.7-py2.py3-none-any.whl (71kB)\n",
      "Collecting colorama>=0.3.7 (from zip)\n",
      "  Downloading colorama-0.3.7-py2.py3-none-any.whl\n",
      "Collecting networkx>=1.11 (from zip)\n",
      "  Downloading networkx-1.11-py2.py3-none-any.whl (1.3MB)\n",
      "Requirement already satisfied: six>=1.10.0 in /app/.conda/lib/python2.7/site-packages (from zip)\n",
      "Requirement already satisfied: decorator>=3.4.0 in /app/.conda/lib/python2.7/site-packages (from networkx>=1.11->zip)\n",
      "Building wheels for collected packages: zip\n",
      "  Running setup.py bdist_wheel for zip: started\n",
      "  Running setup.py bdist_wheel for zip: finished with status 'done'\n",
      "  Stored in directory: /app/.cache/pip/wheels/42/80/c5/3f3e481a59f3f1970ba44c8458be156f1a73ece66bd5b25313\n",
      "Successfully built zip\n",
      "Installing collected packages: click, colorama, networkx, zip\n",
      "Successfully installed click-6.7 colorama-0.3.7 networkx-1.11 zip-0.0.1\n",
      "Requirement already satisfied: wget in /app/.conda/lib/python2.7/site-packages\n",
      "Requirement already satisfied: tensorflow in /app/.conda/lib/python2.7/site-packages\n",
      "Requirement already satisfied: six>=1.10.0 in /app/.conda/lib/python2.7/site-packages (from tensorflow)\n",
      "Requirement already satisfied: numpy>=1.11.0 in /app/.conda/lib/python2.7/site-packages (from tensorflow)\n",
      "Requirement already satisfied: mock>=2.0.0 in /app/.conda/lib/python2.7/site-packages (from tensorflow)\n",
      "Requirement already satisfied: wheel in /app/.conda/lib/python2.7/site-packages (from tensorflow)\n",
      "Requirement already satisfied: protobuf>=3.1.0 in /app/.conda/lib/python2.7/site-packages (from tensorflow)\n",
      "Requirement already satisfied: funcsigs>=1; python_version < \"3.3\" in /app/.conda/lib/python2.7/site-packages (from mock>=2.0.0->tensorflow)\n",
      "Requirement already satisfied: pbr>=0.11 in /app/.conda/lib/python2.7/site-packages (from mock>=2.0.0->tensorflow)\n",
      "Requirement already satisfied: setuptools in /app/.conda/lib/python2.7/site-packages/setuptools-27.2.0-py2.7.egg (from protobuf>=3.1.0->tensorflow)\n",
      "Requirement already satisfied: Theano in /app/.conda/lib/python2.7/site-packages\n",
      "Requirement already satisfied: scipy>=0.11 in /app/.conda/lib/python2.7/site-packages (from Theano)\n",
      "Requirement already satisfied: numpy>=1.7.1 in /app/.conda/lib/python2.7/site-packages (from Theano)\n",
      "Requirement already satisfied: six>=1.9.0 in /app/.conda/lib/python2.7/site-packages (from Theano)\n",
      "Requirement already satisfied: keras in /app/.conda/lib/python2.7/site-packages\n",
      "Requirement already satisfied: six in /app/.conda/lib/python2.7/site-packages (from keras)\n",
      "Requirement already satisfied: pyyaml in /app/.conda/lib/python2.7/site-packages (from keras)\n",
      "Requirement already satisfied: theano in /app/.conda/lib/python2.7/site-packages (from keras)\n",
      "Requirement already satisfied: scipy>=0.11 in /app/.conda/lib/python2.7/site-packages (from theano->keras)\n",
      "Requirement already satisfied: numpy>=1.7.1 in /app/.conda/lib/python2.7/site-packages (from theano->keras)\n",
      "Requirement already satisfied: matplotlib in /app/.conda/lib/python2.7/site-packages\n",
      "Requirement already satisfied: pyparsing!=2.0.0,!=2.0.4,!=2.1.2,!=2.1.6,>=1.5.6 in /app/.conda/lib/python2.7/site-packages (from matplotlib)\n",
      "Requirement already satisfied: numpy>=1.7.1 in /app/.conda/lib/python2.7/site-packages (from matplotlib)\n",
      "Requirement already satisfied: functools32 in /app/.conda/lib/python2.7/site-packages (from matplotlib)\n",
      "Requirement already satisfied: pytz in /app/.conda/lib/python2.7/site-packages (from matplotlib)\n",
      "Requirement already satisfied: six>=1.10 in /app/.conda/lib/python2.7/site-packages (from matplotlib)\n",
      "Requirement already satisfied: cycler>=0.10 in /app/.conda/lib/python2.7/site-packages (from matplotlib)\n",
      "Requirement already satisfied: subprocess32 in /app/.conda/lib/python2.7/site-packages (from matplotlib)\n",
      "Requirement already satisfied: python-dateutil in /app/.conda/lib/python2.7/site-packages (from matplotlib)\n",
      "Requirement already satisfied: pandas in /app/.conda/lib/python2.7/site-packages\n",
      "Requirement already satisfied: pytz>=2011k in /app/.conda/lib/python2.7/site-packages (from pandas)\n",
      "Requirement already satisfied: python-dateutil in /app/.conda/lib/python2.7/site-packages (from pandas)\n",
      "Requirement already satisfied: numpy>=1.7.0 in /app/.conda/lib/python2.7/site-packages (from pandas)\n",
      "Requirement already satisfied: six>=1.5 in /app/.conda/lib/python2.7/site-packages (from python-dateutil->pandas)\n",
      "Requirement already satisfied: subprocess32 in /app/.conda/lib/python2.7/site-packages\n",
      "Requirement already satisfied: pillow in /app/.conda/lib/python2.7/site-packages\n",
      "Requirement already satisfied: olefile in /app/.conda/lib/python2.7/site-packages (from pillow)\n",
      "Requirement already satisfied: sklearn in /app/.conda/lib/python2.7/site-packages\n",
      "Requirement already satisfied: scikit-learn in /app/.conda/lib/python2.7/site-packages (from sklearn)\n",
      "Requirement already satisfied: bcolz in /app/.conda/lib/python2.7/site-packages\n",
      "Requirement already satisfied: numpy>=1.7 in /app/.conda/lib/python2.7/site-packages (from bcolz)\n"
     ]
    },
    {
     "data": {
      "text/plain": [
       "0"
      ]
     },
     "execution_count": 55,
     "metadata": {},
     "output_type": "execute_result"
    }
   ],
   "source": [
    "import pip\n",
    "\n",
    "pip.main(['install', 'zip'])\n",
    "pip.main(['install', 'wget'])\n",
    "pip.main(['install', 'tensorflow'])\n",
    "pip.main(['install', 'Theano'])\n",
    "pip.main(['install', 'keras'])\n",
    "pip.main(['install', 'matplotlib'])\n",
    "pip.main(['install', 'pandas'])\n",
    "pip.main(['install', 'subprocess32'])\n",
    "pip.main(['install', 'pillow'])\n",
    "pip.main(['install', 'sklearn'])\n",
    "pip.main(['install', 'bcolz'])"
   ]
  },
  {
   "cell_type": "code",
   "execution_count": 48,
   "metadata": {
    "collapsed": false,
    "scrolled": false
   },
   "outputs": [
    {
     "ename": "OSError",
     "evalue": "[Errno 17] File exists: '/app/fastai-courses/deeplearning1/nbs/data/dogscats/sample'",
     "output_type": "error",
     "traceback": [
      "\u001b[0;31m\u001b[0m",
      "\u001b[0;31mOSError\u001b[0mTraceback (most recent call last)",
      "\u001b[0;32m<ipython-input-48-0688af0842f9>\u001b[0m in \u001b[0;36m<module>\u001b[0;34m()\u001b[0m\n\u001b[0;32m----> 1\u001b[0;31m \u001b[0mos\u001b[0m\u001b[0;34m.\u001b[0m\u001b[0mmakedirs\u001b[0m\u001b[0;34m(\u001b[0m\u001b[0mnotebooksPath\u001b[0m\u001b[0;34m+\u001b[0m\u001b[0;34m'/data/dogscats/sample'\u001b[0m\u001b[0;34m)\u001b[0m\u001b[0;34m\u001b[0m\u001b[0m\n\u001b[0m",
      "\u001b[0;32m/app/.conda/lib/python2.7/os.pyc\u001b[0m in \u001b[0;36mmakedirs\u001b[0;34m(name, mode)\u001b[0m\n\u001b[1;32m    155\u001b[0m         \u001b[0;32mif\u001b[0m \u001b[0mtail\u001b[0m \u001b[0;34m==\u001b[0m \u001b[0mcurdir\u001b[0m\u001b[0;34m:\u001b[0m           \u001b[0;31m# xxx/newdir/. exists if xxx/newdir exists\u001b[0m\u001b[0;34m\u001b[0m\u001b[0m\n\u001b[1;32m    156\u001b[0m             \u001b[0;32mreturn\u001b[0m\u001b[0;34m\u001b[0m\u001b[0m\n\u001b[0;32m--> 157\u001b[0;31m     \u001b[0mmkdir\u001b[0m\u001b[0;34m(\u001b[0m\u001b[0mname\u001b[0m\u001b[0;34m,\u001b[0m \u001b[0mmode\u001b[0m\u001b[0;34m)\u001b[0m\u001b[0;34m\u001b[0m\u001b[0m\n\u001b[0m\u001b[1;32m    158\u001b[0m \u001b[0;34m\u001b[0m\u001b[0m\n\u001b[1;32m    159\u001b[0m \u001b[0;32mdef\u001b[0m \u001b[0mremovedirs\u001b[0m\u001b[0;34m(\u001b[0m\u001b[0mname\u001b[0m\u001b[0;34m)\u001b[0m\u001b[0;34m:\u001b[0m\u001b[0;34m\u001b[0m\u001b[0m\n",
      "\u001b[0;31mOSError\u001b[0m: [Errno 17] File exists: '/app/fastai-courses/deeplearning1/nbs/data/dogscats/sample'"
     ]
    }
   ],
   "source": [
    "os.makedirs(notebooksPath+'/data/dogscats/sample')"
   ]
  },
  {
   "cell_type": "code",
   "execution_count": 49,
   "metadata": {
    "collapsed": true
   },
   "outputs": [],
   "source": [
    "os.makedirs(notebooksPath+'/data/dogscats/train')"
   ]
  },
  {
   "cell_type": "code",
   "execution_count": 50,
   "metadata": {
    "collapsed": true
   },
   "outputs": [],
   "source": [
    "os.makedirs(notebooksPath+'/data/dogscats/valid')"
   ]
  },
  {
   "cell_type": "code",
   "execution_count": null,
   "metadata": {
    "collapsed": false
   },
   "outputs": [],
   "source": [
    "import wget, zipfile\n",
    "\n",
    "lastcwd=os.getcwd()\n",
    "os.chdir(notebooksPath+'/data/dogscats/')\n",
    "wget.download('http://www.platform.ai/files/dogscats.zip')\n",
    "tempfile=ZipFile('dogscats.zip')\n",
    "tempfile.extractall()\n",
    "os.listdir(os.getcwd())\n",
    "os.chdir(lastcwd)"
   ]
  },
  {
   "cell_type": "code",
   "execution_count": null,
   "metadata": {
    "collapsed": true
   },
   "outputs": [],
   "source": []
  }
 ],
 "metadata": {
  "kernelspec": {
   "display_name": "Python 2",
   "language": "python",
   "name": "python2"
  },
  "language_info": {
   "codemirror_mode": {
    "name": "ipython",
    "version": 2
   },
   "file_extension": ".py",
   "mimetype": "text/x-python",
   "name": "python",
   "nbconvert_exporter": "python",
   "pygments_lexer": "ipython2",
   "version": "2.7.13"
  }
 },
 "nbformat": 4,
 "nbformat_minor": 2
}
