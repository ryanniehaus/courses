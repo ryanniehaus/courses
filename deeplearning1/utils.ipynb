{
 "cells": [
  {
   "cell_type": "code",
   "execution_count": 42,
   "metadata": {
    "collapsed": false
   },
   "outputs": [
    {
     "name": "stdout",
     "output_type": "stream",
     "text": [
      "currentPath=/app/fastai-courses\n",
      "notebooksPath=/app/fastai-courses/deeplearning1/nbs\n"
     ]
    },
    {
     "ename": "GitCommandError",
     "evalue": "Cmd('git') failed due to: exit code(1)\n  cmdline: git commit -m Committing progress on course\n  stdout: 'On branch master\nYour branch is up-to-date with 'origin/master'.\nChanges not staged for commit:\n\tmodified:   deeplearning1/utils.ipynb\n\nno changes added to commit'",
     "output_type": "error",
     "traceback": [
      "\u001b[0;31m\u001b[0m",
      "\u001b[0;31mGitCommandError\u001b[0mTraceback (most recent call last)",
      "\u001b[0;32m<ipython-input-42-702f2fffdaac>\u001b[0m in \u001b[0;36m<module>\u001b[0;34m()\u001b[0m\n\u001b[1;32m     14\u001b[0m \u001b[0mrepo\u001b[0m\u001b[0;34m.\u001b[0m\u001b[0mgit\u001b[0m\u001b[0;34m.\u001b[0m\u001b[0madd\u001b[0m\u001b[0;34m(\u001b[0m\u001b[0mA\u001b[0m\u001b[0;34m=\u001b[0m\u001b[0mTrue\u001b[0m\u001b[0;34m)\u001b[0m\u001b[0;34m\u001b[0m\u001b[0m\n\u001b[1;32m     15\u001b[0m \u001b[0mrepo\u001b[0m\u001b[0;34m.\u001b[0m\u001b[0mgit\u001b[0m\u001b[0;34m.\u001b[0m\u001b[0mreset\u001b[0m\u001b[0;34m(\u001b[0m\u001b[0mglob\u001b[0m\u001b[0;34m.\u001b[0m\u001b[0mglob\u001b[0m\u001b[0;34m(\u001b[0m\u001b[0mnotebooksPath\u001b[0m\u001b[0;34m+\u001b[0m\u001b[0;34m\"/data/*\"\u001b[0m\u001b[0;34m)\u001b[0m\u001b[0;34m)\u001b[0m\u001b[0;34m\u001b[0m\u001b[0m\n\u001b[0;32m---> 16\u001b[0;31m \u001b[0mrepo\u001b[0m\u001b[0;34m.\u001b[0m\u001b[0mgit\u001b[0m\u001b[0;34m.\u001b[0m\u001b[0mcommit\u001b[0m\u001b[0;34m(\u001b[0m\u001b[0mm\u001b[0m\u001b[0;34m=\u001b[0m\u001b[0;34m\"Committing progress on course\"\u001b[0m\u001b[0;34m)\u001b[0m\u001b[0;34m\u001b[0m\u001b[0m\n\u001b[0m\u001b[1;32m     17\u001b[0m \u001b[0mrepo\u001b[0m\u001b[0;34m.\u001b[0m\u001b[0mgit\u001b[0m\u001b[0;34m.\u001b[0m\u001b[0mpush\u001b[0m\u001b[0;34m(\u001b[0m\u001b[0;34m)\u001b[0m\u001b[0;34m\u001b[0m\u001b[0m\n",
      "\u001b[0;32m/app/.conda/lib/python2.7/site-packages/git/cmd.pyc\u001b[0m in \u001b[0;36m<lambda>\u001b[0;34m(*args, **kwargs)\u001b[0m\n\u001b[1;32m    422\u001b[0m         \u001b[0;32mif\u001b[0m \u001b[0mname\u001b[0m\u001b[0;34m[\u001b[0m\u001b[0;36m0\u001b[0m\u001b[0;34m]\u001b[0m \u001b[0;34m==\u001b[0m \u001b[0;34m'_'\u001b[0m\u001b[0;34m:\u001b[0m\u001b[0;34m\u001b[0m\u001b[0m\n\u001b[1;32m    423\u001b[0m             \u001b[0;32mreturn\u001b[0m \u001b[0mLazyMixin\u001b[0m\u001b[0;34m.\u001b[0m\u001b[0m__getattr__\u001b[0m\u001b[0;34m(\u001b[0m\u001b[0mself\u001b[0m\u001b[0;34m,\u001b[0m \u001b[0mname\u001b[0m\u001b[0;34m)\u001b[0m\u001b[0;34m\u001b[0m\u001b[0m\n\u001b[0;32m--> 424\u001b[0;31m         \u001b[0;32mreturn\u001b[0m \u001b[0;32mlambda\u001b[0m \u001b[0;34m*\u001b[0m\u001b[0margs\u001b[0m\u001b[0;34m,\u001b[0m \u001b[0;34m**\u001b[0m\u001b[0mkwargs\u001b[0m\u001b[0;34m:\u001b[0m \u001b[0mself\u001b[0m\u001b[0;34m.\u001b[0m\u001b[0m_call_process\u001b[0m\u001b[0;34m(\u001b[0m\u001b[0mname\u001b[0m\u001b[0;34m,\u001b[0m \u001b[0;34m*\u001b[0m\u001b[0margs\u001b[0m\u001b[0;34m,\u001b[0m \u001b[0;34m**\u001b[0m\u001b[0mkwargs\u001b[0m\u001b[0;34m)\u001b[0m\u001b[0;34m\u001b[0m\u001b[0m\n\u001b[0m\u001b[1;32m    425\u001b[0m \u001b[0;34m\u001b[0m\u001b[0m\n\u001b[1;32m    426\u001b[0m     \u001b[0;32mdef\u001b[0m \u001b[0mset_persistent_git_options\u001b[0m\u001b[0;34m(\u001b[0m\u001b[0mself\u001b[0m\u001b[0;34m,\u001b[0m \u001b[0;34m**\u001b[0m\u001b[0mkwargs\u001b[0m\u001b[0;34m)\u001b[0m\u001b[0;34m:\u001b[0m\u001b[0;34m\u001b[0m\u001b[0m\n",
      "\u001b[0;32m/app/.conda/lib/python2.7/site-packages/git/cmd.pyc\u001b[0m in \u001b[0;36m_call_process\u001b[0;34m(self, method, *args, **kwargs)\u001b[0m\n\u001b[1;32m    871\u001b[0m         \u001b[0mcall\u001b[0m\u001b[0;34m.\u001b[0m\u001b[0mextend\u001b[0m\u001b[0;34m(\u001b[0m\u001b[0margs\u001b[0m\u001b[0;34m)\u001b[0m\u001b[0;34m\u001b[0m\u001b[0m\n\u001b[1;32m    872\u001b[0m \u001b[0;34m\u001b[0m\u001b[0m\n\u001b[0;32m--> 873\u001b[0;31m         \u001b[0;32mreturn\u001b[0m \u001b[0mself\u001b[0m\u001b[0;34m.\u001b[0m\u001b[0mexecute\u001b[0m\u001b[0;34m(\u001b[0m\u001b[0mcall\u001b[0m\u001b[0;34m,\u001b[0m \u001b[0;34m**\u001b[0m\u001b[0m_kwargs\u001b[0m\u001b[0;34m)\u001b[0m\u001b[0;34m\u001b[0m\u001b[0m\n\u001b[0m\u001b[1;32m    874\u001b[0m \u001b[0;34m\u001b[0m\u001b[0m\n\u001b[1;32m    875\u001b[0m     \u001b[0;32mdef\u001b[0m \u001b[0m_parse_object_header\u001b[0m\u001b[0;34m(\u001b[0m\u001b[0mself\u001b[0m\u001b[0;34m,\u001b[0m \u001b[0mheader_line\u001b[0m\u001b[0;34m)\u001b[0m\u001b[0;34m:\u001b[0m\u001b[0;34m\u001b[0m\u001b[0m\n",
      "\u001b[0;32m/app/.conda/lib/python2.7/site-packages/git/cmd.pyc\u001b[0m in \u001b[0;36mexecute\u001b[0;34m(self, command, istream, with_extended_output, with_exceptions, as_process, output_stream, stdout_as_string, kill_after_timeout, with_stdout, universal_newlines, shell, **subprocess_kwargs)\u001b[0m\n\u001b[1;32m    685\u001b[0m \u001b[0;34m\u001b[0m\u001b[0m\n\u001b[1;32m    686\u001b[0m         \u001b[0;32mif\u001b[0m \u001b[0mwith_exceptions\u001b[0m \u001b[0;32mand\u001b[0m \u001b[0mstatus\u001b[0m \u001b[0;34m!=\u001b[0m \u001b[0;36m0\u001b[0m\u001b[0;34m:\u001b[0m\u001b[0;34m\u001b[0m\u001b[0m\n\u001b[0;32m--> 687\u001b[0;31m             \u001b[0;32mraise\u001b[0m \u001b[0mGitCommandError\u001b[0m\u001b[0;34m(\u001b[0m\u001b[0mcommand\u001b[0m\u001b[0;34m,\u001b[0m \u001b[0mstatus\u001b[0m\u001b[0;34m,\u001b[0m \u001b[0mstderr_value\u001b[0m\u001b[0;34m,\u001b[0m \u001b[0mstdout_value\u001b[0m\u001b[0;34m)\u001b[0m\u001b[0;34m\u001b[0m\u001b[0m\n\u001b[0m\u001b[1;32m    688\u001b[0m \u001b[0;34m\u001b[0m\u001b[0m\n\u001b[1;32m    689\u001b[0m         \u001b[0;32mif\u001b[0m \u001b[0misinstance\u001b[0m\u001b[0;34m(\u001b[0m\u001b[0mstdout_value\u001b[0m\u001b[0;34m,\u001b[0m \u001b[0mbytes\u001b[0m\u001b[0;34m)\u001b[0m \u001b[0;32mand\u001b[0m \u001b[0mstdout_as_string\u001b[0m\u001b[0;34m:\u001b[0m  \u001b[0;31m# could also be output_stream\u001b[0m\u001b[0;34m\u001b[0m\u001b[0m\n",
      "\u001b[0;31mGitCommandError\u001b[0m: Cmd('git') failed due to: exit code(1)\n  cmdline: git commit -m Committing progress on course\n  stdout: 'On branch master\nYour branch is up-to-date with 'origin/master'.\nChanges not staged for commit:\n\tmodified:   deeplearning1/utils.ipynb\n\nno changes added to commit'"
     ]
    }
   ],
   "source": [
    "import os, sys, glob\n",
    "notebooksPath=os.path.realpath(\"nbs\")\n",
    "currentPath=os.path.realpath(\"..\")\n",
    "print(\"currentPath=\"+currentPath)\n",
    "print(\"notebooksPath=\"+notebooksPath)\n",
    "\n",
    "import git\n",
    "repo = git.Repo(currentPath)\n",
    "\n",
    "repo.git.push(\"--set-upstream\", \"origin\", \"master\")\n",
    "repo.git.fetch()\n",
    "repo.git.pull()\n",
    "\n",
    "repo.git.add(A=True)\n",
    "dataIgnorePathIter=glob.iglob(notebooksPath+\"/data/*\")\n",
    "repo.git.reset(glob.glob(notebooksPath+\"/data/*\"))\n",
    "repo.git.commit(m=\"Committing progress on course\")\n",
    "repo.git.push()"
   ]
  },
  {
   "cell_type": "code",
   "execution_count": 35,
   "metadata": {
    "collapsed": false
   },
   "outputs": [
    {
     "name": "stdout",
     "output_type": "stream",
     "text": [
      "Requirement already satisfied: tensorflow in /app/.conda/lib/python2.7/site-packages\n",
      "Requirement already satisfied: six>=1.10.0 in /app/.conda/lib/python2.7/site-packages (from tensorflow)\n",
      "Requirement already satisfied: numpy>=1.11.0 in /app/.conda/lib/python2.7/site-packages (from tensorflow)\n",
      "Requirement already satisfied: mock>=2.0.0 in /app/.conda/lib/python2.7/site-packages (from tensorflow)\n",
      "Requirement already satisfied: wheel in /app/.conda/lib/python2.7/site-packages (from tensorflow)\n",
      "Requirement already satisfied: protobuf>=3.1.0 in /app/.conda/lib/python2.7/site-packages (from tensorflow)\n",
      "Requirement already satisfied: funcsigs>=1; python_version < \"3.3\" in /app/.conda/lib/python2.7/site-packages (from mock>=2.0.0->tensorflow)\n",
      "Requirement already satisfied: pbr>=0.11 in /app/.conda/lib/python2.7/site-packages (from mock>=2.0.0->tensorflow)\n",
      "Requirement already satisfied: setuptools in /app/.conda/lib/python2.7/site-packages/setuptools-27.2.0-py2.7.egg (from protobuf>=3.1.0->tensorflow)\n",
      "Requirement already satisfied: Theano in /app/.conda/lib/python2.7/site-packages\n",
      "Requirement already satisfied: scipy>=0.11 in /app/.conda/lib/python2.7/site-packages (from Theano)\n",
      "Requirement already satisfied: numpy>=1.7.1 in /app/.conda/lib/python2.7/site-packages (from Theano)\n",
      "Requirement already satisfied: six>=1.9.0 in /app/.conda/lib/python2.7/site-packages (from Theano)\n",
      "Requirement already satisfied: keras in /app/.conda/lib/python2.7/site-packages\n",
      "Requirement already satisfied: six in /app/.conda/lib/python2.7/site-packages (from keras)\n",
      "Requirement already satisfied: pyyaml in /app/.conda/lib/python2.7/site-packages (from keras)\n",
      "Requirement already satisfied: theano in /app/.conda/lib/python2.7/site-packages (from keras)\n",
      "Requirement already satisfied: scipy>=0.11 in /app/.conda/lib/python2.7/site-packages (from theano->keras)\n",
      "Requirement already satisfied: numpy>=1.7.1 in /app/.conda/lib/python2.7/site-packages (from theano->keras)\n",
      "Requirement already satisfied: matplotlib in /app/.conda/lib/python2.7/site-packages\n",
      "Requirement already satisfied: pyparsing!=2.0.0,!=2.0.4,!=2.1.2,!=2.1.6,>=1.5.6 in /app/.conda/lib/python2.7/site-packages (from matplotlib)\n",
      "Requirement already satisfied: numpy>=1.7.1 in /app/.conda/lib/python2.7/site-packages (from matplotlib)\n",
      "Requirement already satisfied: functools32 in /app/.conda/lib/python2.7/site-packages (from matplotlib)\n",
      "Requirement already satisfied: pytz in /app/.conda/lib/python2.7/site-packages (from matplotlib)\n",
      "Requirement already satisfied: six>=1.10 in /app/.conda/lib/python2.7/site-packages (from matplotlib)\n",
      "Requirement already satisfied: cycler>=0.10 in /app/.conda/lib/python2.7/site-packages (from matplotlib)\n",
      "Requirement already satisfied: subprocess32 in /app/.conda/lib/python2.7/site-packages (from matplotlib)\n",
      "Requirement already satisfied: python-dateutil in /app/.conda/lib/python2.7/site-packages (from matplotlib)\n",
      "Requirement already satisfied: pandas in /app/.conda/lib/python2.7/site-packages\n",
      "Requirement already satisfied: pytz>=2011k in /app/.conda/lib/python2.7/site-packages (from pandas)\n",
      "Requirement already satisfied: python-dateutil in /app/.conda/lib/python2.7/site-packages (from pandas)\n",
      "Requirement already satisfied: numpy>=1.7.0 in /app/.conda/lib/python2.7/site-packages (from pandas)\n",
      "Requirement already satisfied: six>=1.5 in /app/.conda/lib/python2.7/site-packages (from python-dateutil->pandas)\n",
      "Requirement already satisfied: subprocess32 in /app/.conda/lib/python2.7/site-packages\n",
      "Requirement already satisfied: pillow in /app/.conda/lib/python2.7/site-packages\n",
      "Requirement already satisfied: olefile in /app/.conda/lib/python2.7/site-packages (from pillow)\n",
      "Requirement already satisfied: sklearn in /app/.conda/lib/python2.7/site-packages\n",
      "Requirement already satisfied: scikit-learn in /app/.conda/lib/python2.7/site-packages (from sklearn)\n",
      "Requirement already satisfied: bcolz in /app/.conda/lib/python2.7/site-packages\n",
      "Requirement already satisfied: numpy>=1.7 in /app/.conda/lib/python2.7/site-packages (from bcolz)\n"
     ]
    },
    {
     "data": {
      "text/plain": [
       "0"
      ]
     },
     "execution_count": 35,
     "metadata": {},
     "output_type": "execute_result"
    }
   ],
   "source": [
    "import pip\n",
    "\n",
    "pip.main(['install', 'tensorflow'])\n",
    "pip.main(['install', 'Theano'])\n",
    "pip.main(['install', 'keras'])\n",
    "pip.main(['install', 'matplotlib'])\n",
    "pip.main(['install', 'pandas'])\n",
    "pip.main(['install', 'subprocess32'])\n",
    "pip.main(['install', 'pillow'])\n",
    "pip.main(['install', 'sklearn'])\n",
    "pip.main(['install', 'bcolz'])"
   ]
  },
  {
   "cell_type": "code",
   "execution_count": 39,
   "metadata": {
    "collapsed": false,
    "scrolled": false
   },
   "outputs": [],
   "source": [
    "os.makedirs(notebooksPath+'/data')"
   ]
  },
  {
   "cell_type": "code",
   "execution_count": null,
   "metadata": {
    "collapsed": true
   },
   "outputs": [],
   "source": []
  },
  {
   "cell_type": "code",
   "execution_count": null,
   "metadata": {
    "collapsed": true
   },
   "outputs": [],
   "source": []
  }
 ],
 "metadata": {
  "kernelspec": {
   "display_name": "Python 2",
   "language": "python",
   "name": "python2"
  },
  "language_info": {
   "codemirror_mode": {
    "name": "ipython",
    "version": 2
   },
   "file_extension": ".py",
   "mimetype": "text/x-python",
   "name": "python",
   "nbconvert_exporter": "python",
   "pygments_lexer": "ipython2",
   "version": "2.7.13"
  }
 },
 "nbformat": 4,
 "nbformat_minor": 2
}
