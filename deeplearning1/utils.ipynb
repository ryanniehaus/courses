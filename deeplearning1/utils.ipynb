{
 "cells": [
  {
   "cell_type": "code",
   "execution_count": 45,
   "metadata": {
    "collapsed": false
   },
   "outputs": [
    {
     "name": "stdout",
     "output_type": "stream",
     "text": [
      "currentPath=/app/fastai-courses\n",
      "notebooksPath=/app/fastai-courses/deeplearning1/nbs\n"
     ]
    },
    {
     "data": {
      "text/plain": [
       "u''"
      ]
     },
     "execution_count": 45,
     "metadata": {},
     "output_type": "execute_result"
    }
   ],
   "source": [
    "import os, sys, glob\n",
    "notebooksPath=os.path.realpath(\"nbs\")\n",
    "currentPath=os.path.realpath(\"..\")\n",
    "print(\"currentPath=\"+currentPath)\n",
    "print(\"notebooksPath=\"+notebooksPath)\n",
    "\n",
    "import git\n",
    "repo = git.Repo(currentPath)\n",
    "\n",
    "repo.git.push(\"--set-upstream\", \"origin\", \"master\")\n",
    "repo.git.fetch()\n",
    "repo.git.pull()\n",
    "\n",
    "repo.git.add(A=True)\n",
    "repo.git.commit(m=\"Committing progress on course\")\n",
    "repo.git.push()"
   ]
  },
  {
   "cell_type": "code",
   "execution_count": 35,
   "metadata": {
    "collapsed": false
   },
   "outputs": [
    {
     "name": "stdout",
     "output_type": "stream",
     "text": [
      "Requirement already satisfied: tensorflow in /app/.conda/lib/python2.7/site-packages\n",
      "Requirement already satisfied: six>=1.10.0 in /app/.conda/lib/python2.7/site-packages (from tensorflow)\n",
      "Requirement already satisfied: numpy>=1.11.0 in /app/.conda/lib/python2.7/site-packages (from tensorflow)\n",
      "Requirement already satisfied: mock>=2.0.0 in /app/.conda/lib/python2.7/site-packages (from tensorflow)\n",
      "Requirement already satisfied: wheel in /app/.conda/lib/python2.7/site-packages (from tensorflow)\n",
      "Requirement already satisfied: protobuf>=3.1.0 in /app/.conda/lib/python2.7/site-packages (from tensorflow)\n",
      "Requirement already satisfied: funcsigs>=1; python_version < \"3.3\" in /app/.conda/lib/python2.7/site-packages (from mock>=2.0.0->tensorflow)\n",
      "Requirement already satisfied: pbr>=0.11 in /app/.conda/lib/python2.7/site-packages (from mock>=2.0.0->tensorflow)\n",
      "Requirement already satisfied: setuptools in /app/.conda/lib/python2.7/site-packages/setuptools-27.2.0-py2.7.egg (from protobuf>=3.1.0->tensorflow)\n",
      "Requirement already satisfied: Theano in /app/.conda/lib/python2.7/site-packages\n",
      "Requirement already satisfied: scipy>=0.11 in /app/.conda/lib/python2.7/site-packages (from Theano)\n",
      "Requirement already satisfied: numpy>=1.7.1 in /app/.conda/lib/python2.7/site-packages (from Theano)\n",
      "Requirement already satisfied: six>=1.9.0 in /app/.conda/lib/python2.7/site-packages (from Theano)\n",
      "Requirement already satisfied: keras in /app/.conda/lib/python2.7/site-packages\n",
      "Requirement already satisfied: six in /app/.conda/lib/python2.7/site-packages (from keras)\n",
      "Requirement already satisfied: pyyaml in /app/.conda/lib/python2.7/site-packages (from keras)\n",
      "Requirement already satisfied: theano in /app/.conda/lib/python2.7/site-packages (from keras)\n",
      "Requirement already satisfied: scipy>=0.11 in /app/.conda/lib/python2.7/site-packages (from theano->keras)\n",
      "Requirement already satisfied: numpy>=1.7.1 in /app/.conda/lib/python2.7/site-packages (from theano->keras)\n",
      "Requirement already satisfied: matplotlib in /app/.conda/lib/python2.7/site-packages\n",
      "Requirement already satisfied: pyparsing!=2.0.0,!=2.0.4,!=2.1.2,!=2.1.6,>=1.5.6 in /app/.conda/lib/python2.7/site-packages (from matplotlib)\n",
      "Requirement already satisfied: numpy>=1.7.1 in /app/.conda/lib/python2.7/site-packages (from matplotlib)\n",
      "Requirement already satisfied: functools32 in /app/.conda/lib/python2.7/site-packages (from matplotlib)\n",
      "Requirement already satisfied: pytz in /app/.conda/lib/python2.7/site-packages (from matplotlib)\n",
      "Requirement already satisfied: six>=1.10 in /app/.conda/lib/python2.7/site-packages (from matplotlib)\n",
      "Requirement already satisfied: cycler>=0.10 in /app/.conda/lib/python2.7/site-packages (from matplotlib)\n",
      "Requirement already satisfied: subprocess32 in /app/.conda/lib/python2.7/site-packages (from matplotlib)\n",
      "Requirement already satisfied: python-dateutil in /app/.conda/lib/python2.7/site-packages (from matplotlib)\n",
      "Requirement already satisfied: pandas in /app/.conda/lib/python2.7/site-packages\n",
      "Requirement already satisfied: pytz>=2011k in /app/.conda/lib/python2.7/site-packages (from pandas)\n",
      "Requirement already satisfied: python-dateutil in /app/.conda/lib/python2.7/site-packages (from pandas)\n",
      "Requirement already satisfied: numpy>=1.7.0 in /app/.conda/lib/python2.7/site-packages (from pandas)\n",
      "Requirement already satisfied: six>=1.5 in /app/.conda/lib/python2.7/site-packages (from python-dateutil->pandas)\n",
      "Requirement already satisfied: subprocess32 in /app/.conda/lib/python2.7/site-packages\n",
      "Requirement already satisfied: pillow in /app/.conda/lib/python2.7/site-packages\n",
      "Requirement already satisfied: olefile in /app/.conda/lib/python2.7/site-packages (from pillow)\n",
      "Requirement already satisfied: sklearn in /app/.conda/lib/python2.7/site-packages\n",
      "Requirement already satisfied: scikit-learn in /app/.conda/lib/python2.7/site-packages (from sklearn)\n",
      "Requirement already satisfied: bcolz in /app/.conda/lib/python2.7/site-packages\n",
      "Requirement already satisfied: numpy>=1.7 in /app/.conda/lib/python2.7/site-packages (from bcolz)\n"
     ]
    },
    {
     "data": {
      "text/plain": [
       "0"
      ]
     },
     "execution_count": 35,
     "metadata": {},
     "output_type": "execute_result"
    }
   ],
   "source": [
    "import pip\n",
    "\n",
    "pip.main(['install', 'tensorflow'])\n",
    "pip.main(['install', 'Theano'])\n",
    "pip.main(['install', 'keras'])\n",
    "pip.main(['install', 'matplotlib'])\n",
    "pip.main(['install', 'pandas'])\n",
    "pip.main(['install', 'subprocess32'])\n",
    "pip.main(['install', 'pillow'])\n",
    "pip.main(['install', 'sklearn'])\n",
    "pip.main(['install', 'bcolz'])"
   ]
  },
  {
   "cell_type": "code",
   "execution_count": 46,
   "metadata": {
    "collapsed": false,
    "scrolled": false
   },
   "outputs": [],
   "source": [
    "os.makedirs(notebooksPath+'/data/dogscats/sample')"
   ]
  },
  {
   "cell_type": "code",
   "execution_count": null,
   "metadata": {
    "collapsed": true
   },
   "outputs": [],
   "source": []
  },
  {
   "cell_type": "code",
   "execution_count": null,
   "metadata": {
    "collapsed": true
   },
   "outputs": [],
   "source": []
  }
 ],
 "metadata": {
  "kernelspec": {
   "display_name": "Python 2",
   "language": "python",
   "name": "python2"
  },
  "language_info": {
   "codemirror_mode": {
    "name": "ipython",
    "version": 2
   },
   "file_extension": ".py",
   "mimetype": "text/x-python",
   "name": "python",
   "nbconvert_exporter": "python",
   "pygments_lexer": "ipython2",
   "version": "2.7.13"
  }
 },
 "nbformat": 4,
 "nbformat_minor": 2
}
