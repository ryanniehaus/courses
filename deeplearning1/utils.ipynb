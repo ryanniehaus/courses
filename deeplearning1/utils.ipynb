{
 "cells": [
  {
   "cell_type": "code",
   "execution_count": 3,
   "metadata": {
    "collapsed": false
   },
   "outputs": [
    {
     "name": "stdout",
     "output_type": "stream",
     "text": [
      "/app/fastai-courses\n"
     ]
    },
    {
     "data": {
      "text/plain": [
       "''"
      ]
     },
     "execution_count": 3,
     "metadata": {},
     "output_type": "execute_result"
    }
   ],
   "source": [
    "import os, sys\n",
    "currentPath=os.path.realpath(\"..\")\n",
    "print(currentPath)\n",
    "\n",
    "import git\n",
    "repo = git.Repo(currentPath)\n",
    "\n",
    "repo.git.push(\"--set-upstream\", \"origin\", \"master\")\n",
    "repo.git.fetch()\n",
    "repo.git.pull()\n",
    "\n",
    "repo.git.add(A=True)\n",
    "repo.git.commit(m=\"Committing progress on course\")\n",
    "repo.git.push()"
   ]
  },
  {
   "cell_type": "code",
   "execution_count": 1,
   "metadata": {
    "collapsed": false
   },
   "outputs": [
    {
     "name": "stdout",
     "output_type": "stream",
     "text": [
      "Collecting tensorflow\n",
      "  Downloading tensorflow-0.12.1-cp27-cp27mu-manylinux1_x86_64.whl (43.1MB)\n",
      "Requirement already satisfied: six>=1.10.0 in /app/.conda/lib/python2.7/site-packages (from tensorflow)\n",
      "Collecting numpy>=1.11.0 (from tensorflow)\n",
      "  Downloading numpy-1.12.0-cp27-cp27mu-manylinux1_x86_64.whl (16.5MB)\n",
      "Collecting mock>=2.0.0 (from tensorflow)\n",
      "  Downloading mock-2.0.0-py2.py3-none-any.whl (56kB)\n",
      "Requirement already satisfied: wheel in /app/.conda/lib/python2.7/site-packages (from tensorflow)\n",
      "Collecting protobuf>=3.1.0 (from tensorflow)\n",
      "  Downloading protobuf-3.2.0-py2.py3-none-any.whl (360kB)\n",
      "Collecting funcsigs>=1; python_version < \"3.3\" (from mock>=2.0.0->tensorflow)\n",
      "  Downloading funcsigs-1.0.2-py2.py3-none-any.whl\n",
      "Collecting pbr>=0.11 (from mock>=2.0.0->tensorflow)\n",
      "  Downloading pbr-1.10.0-py2.py3-none-any.whl (96kB)\n",
      "Requirement already satisfied: setuptools in /app/.conda/lib/python2.7/site-packages/setuptools-27.2.0-py2.7.egg (from protobuf>=3.1.0->tensorflow)\n",
      "Installing collected packages: numpy, funcsigs, pbr, mock, protobuf, tensorflow\n",
      "Successfully installed funcsigs-1.0.2 mock-2.0.0 numpy-1.12.0 pbr-1.10.0 protobuf-3.2.0 tensorflow-0.12.1\n",
      "Collecting Theano\n",
      "  Downloading Theano-0.8.2.tar.gz (2.9MB)\n",
      "Requirement already satisfied: numpy>=1.7.1 in /app/.conda/lib/python2.7/site-packages (from Theano)\n",
      "Collecting scipy>=0.11 (from Theano)\n",
      "  Downloading scipy-0.18.1-cp27-cp27mu-manylinux1_x86_64.whl (40.3MB)\n",
      "Requirement already satisfied: six>=1.9.0 in /app/.conda/lib/python2.7/site-packages (from Theano)\n",
      "Building wheels for collected packages: Theano\n",
      "  Running setup.py bdist_wheel for Theano: started\n",
      "  Running setup.py bdist_wheel for Theano: finished with status 'done'\n",
      "  Stored in directory: /app/.cache/pip/wheels/96/2b/3d/71d54e24a7171a4afb7144d1e944a7be643b448b23a35b9937\n",
      "Successfully built Theano\n",
      "Installing collected packages: scipy, Theano\n",
      "Successfully installed Theano-0.8.2 scipy-0.18.1\n",
      "Collecting keras\n",
      "  Downloading Keras-1.2.1.tar.gz (173kB)\n",
      "Requirement already satisfied: theano in /app/.conda/lib/python2.7/site-packages (from keras)\n",
      "Requirement already satisfied: pyyaml in /app/.conda/lib/python2.7/site-packages (from keras)\n",
      "Requirement already satisfied: six in /app/.conda/lib/python2.7/site-packages (from keras)\n",
      "Requirement already satisfied: scipy>=0.11 in /app/.conda/lib/python2.7/site-packages (from theano->keras)\n",
      "Requirement already satisfied: numpy>=1.7.1 in /app/.conda/lib/python2.7/site-packages (from theano->keras)\n",
      "Building wheels for collected packages: keras\n",
      "  Running setup.py bdist_wheel for keras: started\n",
      "  Running setup.py bdist_wheel for keras: finished with status 'done'\n",
      "  Stored in directory: /app/.cache/pip/wheels/1b/89/c2/f774b6f20bfae61dcec703e8fce4c7b91d12954da5d881e4a5\n",
      "Successfully built keras\n",
      "Installing collected packages: keras\n",
      "Successfully installed keras-1.2.1\n",
      "Collecting matplotlib\n",
      "  Downloading matplotlib-2.0.0-1-cp27-cp27mu-manylinux1_x86_64.whl (14.6MB)\n",
      "Requirement already satisfied: pyparsing!=2.0.0,!=2.0.4,!=2.1.2,!=2.1.6,>=1.5.6 in /app/.conda/lib/python2.7/site-packages (from matplotlib)\n",
      "Requirement already satisfied: numpy>=1.7.1 in /app/.conda/lib/python2.7/site-packages (from matplotlib)\n",
      "Requirement already satisfied: functools32 in /app/.conda/lib/python2.7/site-packages (from matplotlib)\n",
      "Requirement already satisfied: pytz in /app/.conda/lib/python2.7/site-packages (from matplotlib)\n",
      "Requirement already satisfied: six>=1.10 in /app/.conda/lib/python2.7/site-packages (from matplotlib)\n",
      "Requirement already satisfied: cycler>=0.10 in /app/.conda/lib/python2.7/site-packages (from matplotlib)\n",
      "Collecting subprocess32 (from matplotlib)\n",
      "  Downloading subprocess32-3.2.7.tar.gz (54kB)\n",
      "Requirement already satisfied: python-dateutil in /app/.conda/lib/python2.7/site-packages (from matplotlib)\n",
      "Building wheels for collected packages: subprocess32\n",
      "  Running setup.py bdist_wheel for subprocess32: started\n",
      "  Running setup.py bdist_wheel for subprocess32: finished with status 'done'\n",
      "  Stored in directory: /app/.cache/pip/wheels/7d/4c/a4/ce9ceb463dae01f4b95e670abd9afc8d65a45f38012f8030cc\n",
      "Successfully built subprocess32\n",
      "Installing collected packages: subprocess32, matplotlib\n",
      "Successfully installed matplotlib-2.0.0 subprocess32-3.2.7\n",
      "Collecting pandas\n",
      "  Downloading pandas-0.19.2-cp27-cp27mu-manylinux1_x86_64.whl (17.2MB)\n",
      "Requirement already satisfied: pytz>=2011k in /app/.conda/lib/python2.7/site-packages (from pandas)\n",
      "Requirement already satisfied: python-dateutil in /app/.conda/lib/python2.7/site-packages (from pandas)\n",
      "Requirement already satisfied: numpy>=1.7.0 in /app/.conda/lib/python2.7/site-packages (from pandas)\n",
      "Requirement already satisfied: six>=1.5 in /app/.conda/lib/python2.7/site-packages (from python-dateutil->pandas)\n",
      "Installing collected packages: pandas\n",
      "Successfully installed pandas-0.19.2\n",
      "Collecting PIL\n"
     ]
    },
    {
     "name": "stderr",
     "output_type": "stream",
     "text": [
      "  Could not find a version that satisfies the requirement PIL (from versions: )\n",
      "No matching distribution found for PIL\n"
     ]
    },
    {
     "data": {
      "text/plain": [
       "1"
      ]
     },
     "execution_count": 1,
     "metadata": {},
     "output_type": "execute_result"
    }
   ],
   "source": [
    "import pip\n",
    "\n",
    "pip.main(['install', 'tensorflow'])\n",
    "pip.main(['install', 'Theano'])\n",
    "pip.main(['install', 'keras'])\n",
    "pip.main(['install', 'matplotlib'])\n",
    "pip.main(['install', 'pandas'])\n",
    "pip.main(['install', 'PIL'])"
   ]
  },
  {
   "cell_type": "code",
   "execution_count": 5,
   "metadata": {
    "collapsed": false
   },
   "outputs": [
    {
     "data": {
      "text/plain": [
       "''"
      ]
     },
     "execution_count": 5,
     "metadata": {},
     "output_type": "execute_result"
    }
   ],
   "source": []
  },
  {
   "cell_type": "code",
   "execution_count": null,
   "metadata": {
    "collapsed": true
   },
   "outputs": [],
   "source": []
  }
 ],
 "metadata": {
  "kernelspec": {
   "display_name": "Python 2",
   "language": "python",
   "name": "python2"
  },
  "language_info": {
   "codemirror_mode": {
    "name": "ipython",
    "version": 2
   },
   "file_extension": ".py",
   "mimetype": "text/x-python",
   "name": "python",
   "nbconvert_exporter": "python",
   "pygments_lexer": "ipython2",
   "version": "2.7.13"
  }
 },
 "nbformat": 4,
 "nbformat_minor": 2
}
